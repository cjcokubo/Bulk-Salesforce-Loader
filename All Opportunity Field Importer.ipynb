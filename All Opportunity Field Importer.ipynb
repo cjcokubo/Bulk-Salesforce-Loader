{
 "cells": [
  {
   "cell_type": "markdown",
   "metadata": {
    "cell_id": "8c85213e008c43c29e195c338219fb96",
    "deepnote_cell_height": 69.96875,
    "deepnote_cell_type": "markdown"
   },
   "source": [
    "## Documentation"
   ]
  },
  {
   "cell_type": "markdown",
   "metadata": {
    "cell_id": "0ace9f56f1d54e3c9a2ae23b3801264f",
    "deepnote_cell_height": 69.96875,
    "deepnote_cell_type": "markdown"
   },
   "source": [
    "## Package Imports"
   ]
  },
  {
   "cell_type": "code",
   "execution_count": 2,
   "metadata": {
    "cell_id": "eaed202f290d41fb85b03cb16d520df1",
    "deepnote_cell_height": 366.875,
    "deepnote_cell_type": "code",
    "deepnote_to_be_reexecuted": false,
    "execution_millis": 3236,
    "execution_start": 1662663894274,
    "source_hash": "2a92ba71"
   },
   "outputs": [
    {
     "name": "stdout",
     "output_type": "stream",
     "text": [
      "Requirement already satisfied: simple_salesforce==1.11.3 in /root/venv/lib/python3.7/site-packages (1.11.3)\n",
      "Requirement already satisfied: requests>=2.22.0 in /shared-libs/python3.7/py/lib/python3.7/site-packages (from simple_salesforce==1.11.3) (2.28.1)\n",
      "Requirement already satisfied: authlib in /root/venv/lib/python3.7/site-packages (from simple_salesforce==1.11.3) (1.0.1)\n",
      "Requirement already satisfied: charset-normalizer<3,>=2 in /shared-libs/python3.7/py-core/lib/python3.7/site-packages (from requests>=2.22.0->simple_salesforce==1.11.3) (2.1.0)\n",
      "Requirement already satisfied: certifi>=2017.4.17 in /shared-libs/python3.7/py/lib/python3.7/site-packages (from requests>=2.22.0->simple_salesforce==1.11.3) (2022.6.15)\n",
      "Requirement already satisfied: urllib3<1.27,>=1.21.1 in /shared-libs/python3.7/py/lib/python3.7/site-packages (from requests>=2.22.0->simple_salesforce==1.11.3) (1.26.11)\n",
      "Requirement already satisfied: idna<4,>=2.5 in /shared-libs/python3.7/py-core/lib/python3.7/site-packages (from requests>=2.22.0->simple_salesforce==1.11.3) (3.3)\n",
      "Requirement already satisfied: cryptography>=3.2 in /shared-libs/python3.7/py/lib/python3.7/site-packages (from authlib->simple_salesforce==1.11.3) (36.0.2)\n",
      "Requirement already satisfied: cffi>=1.12 in /shared-libs/python3.7/py-core/lib/python3.7/site-packages (from cryptography>=3.2->authlib->simple_salesforce==1.11.3) (1.15.1)\n",
      "Requirement already satisfied: pycparser in /shared-libs/python3.7/py-core/lib/python3.7/site-packages (from cffi>=1.12->cryptography>=3.2->authlib->simple_salesforce==1.11.3) (2.21)\n",
      "\u001b[33mWARNING: You are using pip version 22.0.4; however, version 22.2.2 is available.\n",
      "You should consider upgrading via the '/root/venv/bin/python -m pip install --upgrade pip' command.\u001b[0m\u001b[33m\n",
      "\u001b[0m"
     ]
    }
   ],
   "source": [
    "!pip install simple_salesforce==1.11.3 # Run if first time using code"
   ]
  },
  {
   "cell_type": "code",
   "execution_count": 3,
   "metadata": {
    "cell_id": "0f6a895abc304560872f3a5522e85141",
    "deepnote_cell_height": 206.953125,
    "deepnote_cell_type": "code",
    "deepnote_to_be_reexecuted": false,
    "execution_millis": 643,
    "execution_start": 1662663900696,
    "source_hash": "88e0653a"
   },
   "outputs": [],
   "source": [
    "import csv\n",
    "import pandas as pd\n",
    "import requests\n",
    "\n",
    "from simple_salesforce import Salesforce, format_soql, bulk # See Docu for more info about simple-salesforce\n",
    "sf = Salesforce() # Whitelist your IP on Salesforce if you do not have the security token (See Docu)"
   ]
  },
  {
   "cell_type": "markdown",
   "metadata": {
    "cell_id": "df17a484620f445fb65832201616ca95",
    "deepnote_cell_height": 109.96875,
    "deepnote_cell_type": "markdown"
   },
   "source": [
    "## Exporting all Opportunities to CSV — Don't run if not needed (~8 mins runtime)"
   ]
  },
  {
   "cell_type": "code",
   "execution_count": null,
   "metadata": {
    "cell_id": "863884df87cb437480dfc8d672779346",
    "deepnote_cell_height": 273.953125,
    "deepnote_cell_type": "code",
    "deepnote_to_be_reexecuted": false,
    "execution_millis": 426669,
    "execution_start": 1659970376456,
    "source_hash": "b49fa82e"
   },
   "outputs": [],
   "source": [
    "# If need to export csv of all Opportunities info on Salesforce \n",
    "opportunities_dict = sf.query_all(\"SELECT Id, Name FROM Opportunity\")\n",
    "opportunities_data = pd.DataFrame(opportunities_dict['records'])\n",
    "\n",
    "opp_list = []\n",
    "for index, row in opportunities_data.iterrows():\n",
    "    opp = sf.Opportunity.get(row['Id'])\n",
    "    opp_list.append(opp)\n",
    "\n",
    "opp_df = pd.DataFrame(opp_list)\n",
    "opp_df.head()\n",
    "opp_df.to_csv('all_opportunities_data_aug8.csv') # Will download on 'Files' section of Deepnote"
   ]
  },
  {
   "cell_type": "markdown",
   "metadata": {
    "cell_id": "516e7db197b04555a6d8c72721d1fa0e",
    "deepnote_cell_height": 69.96875,
    "deepnote_cell_type": "markdown"
   },
   "source": [
    "## Importing info to Opportunities"
   ]
  },
  {
   "cell_type": "code",
   "execution_count": 4,
   "metadata": {
    "cell_id": "9ca1731506564791bd2f900a76b33b54",
    "deepnote_cell_height": 111.953125,
    "deepnote_cell_type": "code",
    "deepnote_to_be_reexecuted": false,
    "execution_millis": 732,
    "execution_start": 1662663910491,
    "source_hash": "e890b6d9"
   },
   "outputs": [],
   "source": [
    "# Please don't forget to run this cell :)\n",
    "opportunities_dict = sf.query_all(\"SELECT Id, Name FROM Opportunity\") \n",
    "opportunities_data = pd.DataFrame(opportunities_dict['records'])"
   ]
  },
  {
   "cell_type": "code",
   "execution_count": null,
   "metadata": {},
   "outputs": [],
   "source": [
    "opportunities_data.tail()"
   ]
  },
  {
   "cell_type": "code",
   "execution_count": null,
   "metadata": {},
   "outputs": [],
   "source": [
    "# IMPORT CSV WITH DATA YOU WANT TO IMPORT\n",
    "import_df = pd.read_csv(\"Post Interview - For Upload.csv\") # Filename of CSV you uploaded on 'Files' section. Don't forget '.csv'!\n",
    "import_df = import_df.fillna('')\n",
    "#import_df.head(2)\n",
    "import_df"
   ]
  },
  {
   "cell_type": "code",
   "execution_count": 6,
   "metadata": {
    "cell_id": "1c0c1662f36b4360846eb974b2c788b4",
    "deepnote_cell_height": 93.953125,
    "deepnote_cell_type": "code",
    "deepnote_to_be_reexecuted": false,
    "execution_millis": 3,
    "execution_start": 1662663939603,
    "source_hash": "33259ff4",
    "tags": []
   },
   "outputs": [],
   "source": [
    "#We make a list of all the fields from the csv file\n",
    "import_df_cols = list(import_df.columns.values)"
   ]
  },
  {
   "cell_type": "code",
   "execution_count": null,
   "metadata": {},
   "outputs": [],
   "source": [
    "# Bulk Updating on Salesforce\n",
    "import_data = []\n",
    "no_match_data = []\n",
    "\n",
    "for index, row in import_df.iterrows():\n",
    "    import_dict = {}\n",
    "    name = row['Name']\n",
    "    \n",
    "    if name in opportunities_data.values:\n",
    "        opportunity_id = opportunities_data[opportunities_data['Name']==name].iloc[0]['Id']\n",
    "        import_dict['Id'] = opportunity_id\n",
    "        \n",
    "        # FORMAT: import_dict['Salesforce Field Name'] = row['Name of Data Column on your CSV']\n",
    "        # EXAMPLE: import_dict['Address__c'] = row['Address'] \n",
    "        #import_dict['Address__c'] = row['Address__c'] \n",
    "        # To find list of Salesforce Field Names, see Documentation.\n",
    "        #import_dict['Date_of_Team_Review__c'] = row['Date_of_Team_Review__c']\n",
    "        #we will go over every field in our csv and match agaisnt sf fields\n",
    "        for col in import_df_cols:\n",
    "            import_dict[col] = row[col]\n",
    "        \n",
    "        import_data.append(import_dict)\n",
    "    else:\n",
    "        no_match_data.append(name)\n",
    "\n",
    "print(import_data) # Prints list of all data that will get imported.\n",
    "print(no_match_data) # Prints list of opportunities not found by name on Salesforce. Might be due to typos.\n",
    "sf.bulk.Opportunity.update(import_data, batch_size=1000,use_serial=True)\n",
    "#sf.bulk.Opportunity.update(import_data,use_serial=True)\n"
   ]
  },
  {
   "cell_type": "code",
   "execution_count": null,
   "metadata": {
    "cell_id": "7916f8c12f0746d0abdfa14fdfdcc658",
    "deepnote_cell_height": 60.953125,
    "deepnote_cell_type": "code",
    "tags": []
   },
   "outputs": [],
   "source": []
  },
  {
   "cell_type": "markdown",
   "metadata": {
    "created_in_deepnote_cell": true,
    "deepnote_cell_type": "markdown"
   },
   "source": [
    "<a style='text-decoration:none;line-height:16px;display:flex;color:#5B5B62;padding:10px;justify-content:end;' href='https://deepnote.com?utm_source=created-in-deepnote-cell&projectId=2ff65363-a8b1-4ea1-87ff-885722518a14' target=\"_blank\">\n",
    "<img alt='Created in deepnote.com' style='display:inline;max-height:16px;margin:0px;margin-right:7.5px;' src='data:image/svg+xml;base64,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' > </img>\n",
    "Created in <span style='font-weight:600;margin-left:4px;'>Deepnote</span></a>"
   ]
  }
 ],
 "metadata": {
  "deepnote_notebook_id": "eae8910952c74ec78c983e8ef88e7c0f",
  "deepnote_persisted_session": {
   "createdAt": "2022-09-08T19:30:40.164Z"
  },
  "kernelspec": {
   "display_name": "Python 3 (ipykernel)",
   "language": "python",
   "name": "python3"
  },
  "language_info": {
   "codemirror_mode": {
    "name": "ipython",
    "version": 3
   },
   "file_extension": ".py",
   "mimetype": "text/x-python",
   "name": "python",
   "nbconvert_exporter": "python",
   "pygments_lexer": "ipython3",
   "version": "3.7.6"
  }
 },
 "nbformat": 4,
 "nbformat_minor": 4
}
